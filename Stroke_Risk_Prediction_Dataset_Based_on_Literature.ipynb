{
  "nbformat": 4,
  "nbformat_minor": 0,
  "metadata": {
    "colab": {
      "provenance": []
    },
    "kernelspec": {
      "name": "python3",
      "display_name": "Python 3"
    },
    "language_info": {
      "name": "python"
    }
  },
  "cells": [
    {
      "cell_type": "markdown",
      "source": [
        "## **Creating the synthetic dataset**"
      ],
      "metadata": {
        "id": "kkEVvEz7gHZU"
      }
    },
    {
      "cell_type": "code",
      "execution_count": null,
      "metadata": {
        "colab": {
          "base_uri": "https://localhost:8080/"
        },
        "id": "Is-6RiFLuF6O",
        "outputId": "3af54f2f-3039-4cdb-a344-06cbec6dd615"
      },
      "outputs": [
        {
          "output_type": "stream",
          "name": "stdout",
          "text": [
            "Requirement already satisfied: pandas in /usr/local/lib/python3.11/dist-packages (2.2.2)\n",
            "Requirement already satisfied: numpy in /usr/local/lib/python3.11/dist-packages (1.26.4)\n",
            "Requirement already satisfied: scikit-learn in /usr/local/lib/python3.11/dist-packages (1.6.1)\n",
            "Collecting faker\n",
            "  Downloading Faker-36.1.1-py3-none-any.whl.metadata (15 kB)\n",
            "Requirement already satisfied: python-dateutil>=2.8.2 in /usr/local/lib/python3.11/dist-packages (from pandas) (2.8.2)\n",
            "Requirement already satisfied: pytz>=2020.1 in /usr/local/lib/python3.11/dist-packages (from pandas) (2025.1)\n",
            "Requirement already satisfied: tzdata>=2022.7 in /usr/local/lib/python3.11/dist-packages (from pandas) (2025.1)\n",
            "Requirement already satisfied: scipy>=1.6.0 in /usr/local/lib/python3.11/dist-packages (from scikit-learn) (1.13.1)\n",
            "Requirement already satisfied: joblib>=1.2.0 in /usr/local/lib/python3.11/dist-packages (from scikit-learn) (1.4.2)\n",
            "Requirement already satisfied: threadpoolctl>=3.1.0 in /usr/local/lib/python3.11/dist-packages (from scikit-learn) (3.5.0)\n",
            "Requirement already satisfied: six>=1.5 in /usr/local/lib/python3.11/dist-packages (from python-dateutil>=2.8.2->pandas) (1.17.0)\n",
            "Downloading Faker-36.1.1-py3-none-any.whl (1.9 MB)\n",
            "\u001b[2K   \u001b[90m━━━━━━━━━━━━━━━━━━━━━━━━━━━━━━━━━━━━━━━━\u001b[0m \u001b[32m1.9/1.9 MB\u001b[0m \u001b[31m17.1 MB/s\u001b[0m eta \u001b[36m0:00:00\u001b[0m\n",
            "\u001b[?25hInstalling collected packages: faker\n",
            "Successfully installed faker-36.1.1\n"
          ]
        }
      ],
      "source": [
        "pip install pandas numpy scikit-learn faker"
      ]
    },
    {
      "cell_type": "code",
      "source": [
        "import pandas as pd\n",
        "import numpy as np\n",
        "from faker import Faker\n",
        "from sklearn.preprocessing import MinMaxScaler"
      ],
      "metadata": {
        "id": "gIMXOOuGuffl"
      },
      "execution_count": null,
      "outputs": []
    },
    {
      "cell_type": "code",
      "source": [
        "# Dataset size\n",
        "num_records = 70000\n",
        "\n",
        "\n",
        "symptoms = [\n",
        "    \"chest_pain\", \"shortness_of_breath\", \"irregular_heartbeat\", \"fatigue_weakness\",\n",
        "    \"dizziness\", \"swelling_edema\", \"neck_jaw_pain\", \"excessive_sweating\",\n",
        "    \"persistent_cough\", \"nausea_vomiting\", \"high_blood_pressure\", \"chest_discomfort\",\n",
        "    \"cold_hands_feet\", \"snoring_sleep_apnea\", \"anxiety_doom\"\n",
        "]\n",
        "\n",
        "demographics = [\"age\", \"gender\"]\n",
        "\n",
        "# Target variables\n",
        "targets = [\"at_risk\", \"stroke_risk_percentage\"]"
      ],
      "metadata": {
        "id": "ONRAZEwGukm7"
      },
      "execution_count": 23,
      "outputs": []
    },
    {
      "cell_type": "code",
      "source": [
        "fake = Faker()\n",
        "\n",
        "# Generate age and gender\n",
        "def generate_demographics():\n",
        "    age = np.random.randint(18, 90)  # Age range\n",
        "    gender = np.random.choice([\"Male\", \"Female\"])  # Gender\n",
        "    return age, gender"
      ],
      "metadata": {
        "id": "yPTt_PVBuy4a"
      },
      "execution_count": 24,
      "outputs": []
    },
    {
      "cell_type": "code",
      "source": [
        "def generate_symptoms():\n",
        "    symptom_data = {}\n",
        "    for symptom in symptoms:\n",
        "        # Assign a probability of the symptom being present (e.g., 30% for chest pain)\n",
        "        prob = np.random.choice([0, 1], p=[0.7, 0.3])  # Adjust probabilities as needed\n",
        "        symptom_data[symptom] = prob\n",
        "    return symptom_data"
      ],
      "metadata": {
        "id": "Cxaju_iOu3FM"
      },
      "execution_count": 25,
      "outputs": []
    },
    {
      "cell_type": "code",
      "source": [
        "def generate_targets(symptom_data, age):\n",
        "    # Calculate a risk score based on symptoms and age\n",
        "    risk_score = sum(symptom_data.values()) * 5 + (age / 10)  # Example formula\n",
        "    risk_score = np.clip(risk_score, 0, 100)  # Clip to 0-100 range\n",
        "\n",
        "    # Binary at_risk based on a threshold (e.g., 50%)\n",
        "    at_risk = 1 if risk_score > 50 else 0\n",
        "\n",
        "    return at_risk, risk_score"
      ],
      "metadata": {
        "id": "zGaaBNVxu8vp"
      },
      "execution_count": 26,
      "outputs": []
    },
    {
      "cell_type": "code",
      "source": [
        "# Initialize an empty list to store records\n",
        "data = []\n",
        "\n",
        "# Generate records\n",
        "for _ in range(num_records):\n",
        "    age, gender = generate_demographics()\n",
        "    symptom_data = generate_symptoms()\n",
        "    at_risk, stroke_risk = generate_targets(symptom_data, age)\n",
        "\n",
        "    # Combine all data into a single record\n",
        "    record = {\n",
        "        \"age\": age,\n",
        "        \"gender\": gender,\n",
        "        **symptom_data,  # Unpack symptom data\n",
        "        \"at_risk\": at_risk,\n",
        "        \"stroke_risk_percentage\": stroke_risk\n",
        "    }\n",
        "    data.append(record)\n",
        "\n",
        "# Convert to DataFrame\n",
        "df = pd.DataFrame(data)"
      ],
      "metadata": {
        "id": "6sgAP0jgvAtC"
      },
      "execution_count": 27,
      "outputs": []
    },
    {
      "cell_type": "code",
      "source": [
        "# Split the dataset into at-risk and not-at-risk\n",
        "at_risk_df = df[df[\"at_risk\"] == 1]\n",
        "not_at_risk_df = df[df[\"at_risk\"] == 0]\n",
        "\n",
        "# Balance the dataset\n",
        "min_samples = min(len(at_risk_df), len(not_at_risk_df))\n",
        "balanced_df = pd.concat([\n",
        "    at_risk_df.sample(min_samples),\n",
        "    not_at_risk_df.sample(min_samples)\n",
        "])\n",
        "\n",
        "# Shuffle the dataset\n",
        "balanced_df = balanced_df.sample(frac=1).reset_index(drop=True)"
      ],
      "metadata": {
        "id": "Oalae9WnvN0K"
      },
      "execution_count": null,
      "outputs": []
    },
    {
      "cell_type": "code",
      "source": [
        "balanced_df.to_csv(\"stroke_risk_dataset.csv\", index=False)"
      ],
      "metadata": {
        "id": "s4snUOBkvTy7"
      },
      "execution_count": null,
      "outputs": []
    },
    {
      "cell_type": "code",
      "source": [
        "print(balanced_df.head())\n",
        "print(balanced_df[\"at_risk\"].value_counts())\n",
        "print(balanced_df.describe())"
      ],
      "metadata": {
        "colab": {
          "base_uri": "https://localhost:8080/"
        },
        "id": "U960FwUnvaRr",
        "outputId": "660b8458-4fb8-4a17-bde9-3c7954fe2155"
      },
      "execution_count": null,
      "outputs": [
        {
          "output_type": "stream",
          "name": "stdout",
          "text": [
            "   age  gender  chest_pain  shortness_of_breath  irregular_heartbeat  \\\n",
            "0   56  Female           0                    0                    0   \n",
            "1   79  Female           0                    0                    1   \n",
            "2   35  Female           1                    0                    0   \n",
            "3   26    Male           0                    0                    1   \n",
            "4   48    Male           1                    0                    0   \n",
            "\n",
            "   fatigue_weakness  dizziness  swelling_edema  neck_jaw_pain  \\\n",
            "0                 0          1               0              0   \n",
            "1                 0          1               0              1   \n",
            "2                 0          0               0              0   \n",
            "3                 0          1               0              0   \n",
            "4                 1          0               0              0   \n",
            "\n",
            "   excessive_sweating  persistent_cough  nausea_vomiting  high_blood_pressure  \\\n",
            "0                   0                 0                0                    0   \n",
            "1                   0                 1                1                    1   \n",
            "2                   0                 0                1                    0   \n",
            "3                   1                 1                1                    0   \n",
            "4                   0                 1                0                    0   \n",
            "\n",
            "   chest_discomfort  cold_hands_feet  snoring_sleep_apnea  anxiety_doom  \\\n",
            "0                 0                0                    1             0   \n",
            "1                 1                0                    1             1   \n",
            "2                 1                0                    0             0   \n",
            "3                 1                1                    1             0   \n",
            "4                 0                0                    0             1   \n",
            "\n",
            "   at_risk  stroke_risk_percentage  \n",
            "0        0                    15.6  \n",
            "1        1                    52.9  \n",
            "2        0                    18.5  \n",
            "3        0                    42.6  \n",
            "4        0                    24.8  \n",
            "at_risk\n",
            "0    103\n",
            "1    103\n",
            "Name: count, dtype: int64\n",
            "              age  chest_pain  shortness_of_breath  irregular_heartbeat  \\\n",
            "count  206.000000  206.000000           206.000000           206.000000   \n",
            "mean    59.077670    0.509709             0.432039             0.456311   \n",
            "std     19.706475    0.501124             0.496566             0.499301   \n",
            "min     18.000000    0.000000             0.000000             0.000000   \n",
            "25%     44.000000    0.000000             0.000000             0.000000   \n",
            "50%     62.500000    1.000000             0.000000             0.000000   \n",
            "75%     76.000000    1.000000             1.000000             1.000000   \n",
            "max     89.000000    1.000000             1.000000             1.000000   \n",
            "\n",
            "       fatigue_weakness   dizziness  swelling_edema  neck_jaw_pain  \\\n",
            "count        206.000000  206.000000      206.000000     206.000000   \n",
            "mean           0.475728    0.412621        0.466019       0.456311   \n",
            "std            0.500627    0.493505        0.500059       0.499301   \n",
            "min            0.000000    0.000000        0.000000       0.000000   \n",
            "25%            0.000000    0.000000        0.000000       0.000000   \n",
            "50%            0.000000    0.000000        0.000000       0.000000   \n",
            "75%            1.000000    1.000000        1.000000       1.000000   \n",
            "max            1.000000    1.000000        1.000000       1.000000   \n",
            "\n",
            "       excessive_sweating  persistent_cough  nausea_vomiting  \\\n",
            "count          206.000000        206.000000       206.000000   \n",
            "mean             0.436893          0.466019         0.533981   \n",
            "std              0.497210          0.500059         0.500059   \n",
            "min              0.000000          0.000000         0.000000   \n",
            "25%              0.000000          0.000000         0.000000   \n",
            "50%              0.000000          0.000000         1.000000   \n",
            "75%              1.000000          1.000000         1.000000   \n",
            "max              1.000000          1.000000         1.000000   \n",
            "\n",
            "       high_blood_pressure  chest_discomfort  cold_hands_feet  \\\n",
            "count           206.000000        206.000000       206.000000   \n",
            "mean              0.446602          0.509709         0.461165   \n",
            "std               0.498352          0.501124         0.499704   \n",
            "min               0.000000          0.000000         0.000000   \n",
            "25%               0.000000          0.000000         0.000000   \n",
            "50%               0.000000          1.000000         0.000000   \n",
            "75%               1.000000          1.000000         1.000000   \n",
            "max               1.000000          1.000000         1.000000   \n",
            "\n",
            "       snoring_sleep_apnea  anxiety_doom     at_risk  stroke_risk_percentage  \n",
            "count           206.000000    206.000000  206.000000              206.000000  \n",
            "mean              0.529126      0.402913    0.500000               40.883495  \n",
            "std               0.500367      0.491678    0.501218               14.921594  \n",
            "min               0.000000      0.000000    0.000000                8.600000  \n",
            "25%               0.000000      0.000000    0.000000               27.925000  \n",
            "50%               1.000000      0.000000    0.500000               48.900000  \n",
            "75%               1.000000      1.000000    1.000000               53.175000  \n",
            "max               1.000000      1.000000    1.000000               67.500000  \n"
          ]
        }
      ]
    },
    {
      "cell_type": "markdown",
      "source": [
        "For more rigorousity, we have to keep one thing in our mind that, age is a critical non-linear predictor of stroke risk. Let’s refine the synthetic dataset generation to reflect this relationship accurately."
      ],
      "metadata": {
        "id": "0k5i81uS0EyS"
      }
    },
    {
      "cell_type": "code",
      "source": [
        "import pandas as pd\n",
        "import numpy as np\n",
        "from faker import Faker\n",
        "\n",
        "# Initialize\n",
        "fake = Faker()\n",
        "np.random.seed(42)\n",
        "\n",
        "# Parameters\n",
        "num_records = 35_000\n",
        "age_bins = [18, 30, 50, 70, 90]\n",
        "\n",
        "# Symptoms (as before)\n",
        "symptoms = [\n",
        "    \"chest_pain\", \"shortness_of_breath\", \"irregular_heartbeat\", \"fatigue_weakness\",\n",
        "    \"dizziness\", \"swelling_edema\", \"neck_jaw_pain\", \"excessive_sweating\",\n",
        "    \"persistent_cough\", \"nausea_vomiting\", \"high_blood_pressure\", \"chest_discomfort\",\n",
        "    \"cold_hands_feet\", \"snoring_sleep_apnea\", \"anxiety_doom\"\n",
        "]"
      ],
      "metadata": {
        "id": "0b6cQkGgB95m"
      },
      "execution_count": 28,
      "outputs": []
    },
    {
      "cell_type": "code",
      "source": [
        "symptom_probs = {\n",
        "    # Format: {symptom: [prob_18-30, prob_31-50, prob_51-70, prob_71-90]}\n",
        "    \"chest_pain\": [0.05, 0.15, 0.25, 0.35],  # Rare in young, common in elderly\n",
        "    \"high_blood_pressure\": [0.10, 0.25, 0.45, 0.60],  # Major risk factor, increases with age\n",
        "    \"irregular_heartbeat\": [0.02, 0.10, 0.20, 0.30],  # Arrhythmias more common in older adults\n",
        "    \"shortness_of_breath\": [0.10, 0.20, 0.30, 0.40],  # Linked to heart and lung conditions\n",
        "    \"fatigue_weakness\": [0.15, 0.25, 0.35, 0.45],  # General symptom, increases with age\n",
        "    \"dizziness\": [0.10, 0.20, 0.30, 0.40],  # Often related to blood pressure or neurological issues\n",
        "    \"swelling_edema\": [0.05, 0.15, 0.25, 0.35],  # Fluid retention, more common in elderly\n",
        "    \"neck_jaw_pain\": [0.02, 0.10, 0.20, 0.30],  # Often related to cardiovascular issues\n",
        "    \"excessive_sweating\": [0.05, 0.10, 0.15, 0.20],  # Less common, but increases with age\n",
        "    \"persistent_cough\": [0.05, 0.10, 0.20, 0.30],  # Linked to heart failure in older adults\n",
        "    \"nausea_vomiting\": [0.05, 0.10, 0.15, 0.20],  # Less common, but increases with age\n",
        "    \"chest_discomfort\": [0.05, 0.15, 0.25, 0.35],  # Similar to chest pain\n",
        "    \"cold_hands_feet\": [0.10, 0.20, 0.30, 0.40],  # Linked to poor circulation, more common in elderly\n",
        "    \"snoring_sleep_apnea\": [0.05, 0.15, 0.25, 0.35],  # Increases with age and weight\n",
        "    \"anxiety_doom\": [0.05, 0.10, 0.15, 0.20]  # Psychological symptoms, slightly increases with age\n",
        "}"
      ],
      "metadata": {
        "id": "59T_wsHYCDKO"
      },
      "execution_count": 29,
      "outputs": []
    },
    {
      "cell_type": "code",
      "source": [
        "def generate_age():\n",
        "    # More records for older ages (beta distribution)\n",
        "    age = np.round(18 + (90-18) * np.random.beta(2, 5))\n",
        "    return int(np.clip(age, 18, 90))"
      ],
      "metadata": {
        "id": "l_dGc6drCp18"
      },
      "execution_count": 30,
      "outputs": []
    },
    {
      "cell_type": "code",
      "source": [
        "def sigmoid_risk(age):\n",
        "    \"\"\"S-shaped curve for base age risk (sharp increase after 50).\"\"\"\n",
        "    return 1 / (1 + np.exp(-0.1*(age-60)))  # Medical cutoff around 60\n",
        "\n",
        "def gender_risk_modifier(age, gender):\n",
        "    \"\"\"Higher risk for males <60, females >60 (post-menopausal).\"\"\"\n",
        "    if gender == \"Male\":\n",
        "        return 1.5 if age < 60 else 1.2\n",
        "    else:\n",
        "        return 1.0 if age < 60 else 1.8\n"
      ],
      "metadata": {
        "id": "v-OC6r2iEFQ1"
      },
      "execution_count": 31,
      "outputs": []
    },
    {
      "cell_type": "code",
      "source": [
        "def generate_symptoms(age):\n",
        "    symptoms_present = {}\n",
        "    age_group = np.digitize(age, age_bins) - 1  # Convert age to bin index\n",
        "\n",
        "    for symptom, probs in symptom_probs.items():\n",
        "        prob = probs[age_group]\n",
        "        symptoms_present[symptom] = np.random.choice([0, 1], p=[1-prob, prob])\n",
        "\n",
        "    return symptoms_present"
      ],
      "metadata": {
        "id": "__fNPE-iEJJR"
      },
      "execution_count": 32,
      "outputs": []
    },
    {
      "cell_type": "code",
      "source": [
        "data = []\n",
        "for _ in range(num_records):\n",
        "    age = generate_age()\n",
        "    gender = np.random.choice([\"Male\", \"Female\"])\n",
        "    symptoms = generate_symptoms(age)\n",
        "    risk_pct = calculate_stroke_risk(age, gender, symptoms)\n",
        "    at_risk = 1 if risk_pct >= 50 else 0  # Threshold for binary classification\n",
        "\n",
        "    data.append({\n",
        "        \"age\": age,\n",
        "        \"gender\": gender,\n",
        "        **symptoms,\n",
        "        \"stroke_risk_percentage\": np.round(risk_pct, 1),\n",
        "        \"at_risk\": at_risk\n",
        "    })\n",
        "\n",
        "df = pd.DataFrame(data)"
      ],
      "metadata": {
        "id": "a3u13pvyEhwc"
      },
      "execution_count": 34,
      "outputs": []
    },
    {
      "cell_type": "code",
      "source": [
        "from sklearn.model_selection import train_test_split\n",
        "_, df_balanced = train_test_split(\n",
        "    df,\n",
        "    test_size=0.5,\n",
        "    stratify=df[\"at_risk\"],\n",
        "    random_state=42\n",
        ")\n",
        "\n",
        "# Shuffle\n",
        "df_balanced = df_balanced.sample(frac=1).reset_index(drop=True)"
      ],
      "metadata": {
        "id": "fTWXJSPbEnZQ"
      },
      "execution_count": 35,
      "outputs": []
    },
    {
      "cell_type": "code",
      "source": [
        "df_balanced.to_csv(\"stroke_risk_dataset_v2.csv\", index=False)"
      ],
      "metadata": {
        "id": "5bLTTpEOEvO7"
      },
      "execution_count": 36,
      "outputs": []
    },
    {
      "cell_type": "code",
      "source": [
        "# Checking the age distribution in risk groups\n",
        "print(\"Age Distribution by Risk Group:\")\n",
        "print(df_balanced.groupby(\"at_risk\")[\"age\"].describe())\n",
        "\n",
        "# Verifying symptom prevalence increases with age\n",
        "for symptom in [\"high_blood_pressure\", \"chest_pain\"]:\n",
        "    print(f\"\\n{symptom} Prevalence by Age Group:\")\n",
        "    df_balanced[\"age_group\"] = pd.cut(df_balanced[\"age\"], bins=age_bins)\n",
        "    print(df_balanced.groupby(\"age_group\")[symptom].mean())"
      ],
      "metadata": {
        "colab": {
          "base_uri": "https://localhost:8080/"
        },
        "id": "9tLgcel4E046",
        "outputId": "f1c78292-50ff-4c1e-a15c-44bba4c4a96c"
      },
      "execution_count": 37,
      "outputs": [
        {
          "output_type": "stream",
          "name": "stdout",
          "text": [
            "Age Distribution by Risk Group:\n",
            "           count       mean        std   min   25%   50%   75%   max\n",
            "at_risk                                                             \n",
            "0        22113.0  32.763804   7.616959  18.0  27.0  32.0  38.0  59.0\n",
            "1        12887.0  48.696361  10.161924  19.0  41.0  49.0  55.0  86.0\n",
            "\n",
            "high_blood_pressure Prevalence by Age Group:\n",
            "age_group\n",
            "(18, 30]    0.116943\n",
            "(30, 50]    0.257626\n",
            "(50, 70]    0.458621\n",
            "(70, 90]    0.575630\n",
            "Name: high_blood_pressure, dtype: float64\n",
            "\n",
            "chest_pain Prevalence by Age Group:\n",
            "age_group\n",
            "(18, 30]    0.063741\n",
            "(30, 50]    0.155872\n",
            "(50, 70]    0.249909\n",
            "(70, 90]    0.302521\n",
            "Name: chest_pain, dtype: float64\n"
          ]
        },
        {
          "output_type": "stream",
          "name": "stderr",
          "text": [
            "<ipython-input-37-962b88117db3>:9: FutureWarning: The default of observed=False is deprecated and will be changed to True in a future version of pandas. Pass observed=False to retain current behavior or observed=True to adopt the future default and silence this warning.\n",
            "  print(df_balanced.groupby(\"age_group\")[symptom].mean())\n"
          ]
        }
      ]
    },
    {
      "cell_type": "markdown",
      "source": [
        "# **Age Distribution Plot**"
      ],
      "metadata": {
        "id": "f4ThLNkxSjq-"
      }
    },
    {
      "cell_type": "code",
      "source": [
        "import matplotlib.pyplot as plt\n",
        "import seaborn as sns\n",
        "import pandas as pd\n",
        "import numpy as np\n",
        "\n",
        "# Generate synthetic age data for Version 1 and Version 2\n",
        "np.random.seed(42)\n",
        "\n",
        "# Version 1: Linear age distribution (uniform)\n",
        "age_v1 = np.random.uniform(18, 90, size=10000)\n",
        "\n",
        "# Version 2: Skewed age distribution (beta distribution to simulate older population)\n",
        "age_v2 = 18 + (90 - 18) * np.random.beta(2, 5, size=35000)\n",
        "\n",
        "# Create a DataFrame for plotting\n",
        "df_v1 = pd.DataFrame({\"Age\": age_v1, \"Version\": \"Version 1\"})\n",
        "df_v2 = pd.DataFrame({\"Age\": age_v2, \"Version\": \"Version 2\"})\n",
        "df = pd.concat([df_v1, df_v2])\n",
        "\n",
        "# Plot age distribution\n",
        "plt.figure(figsize=(10, 6))\n",
        "sns.histplot(data=df, x=\"Age\", hue=\"Version\", kde=True, bins=30, palette=\"viridis\", alpha=0.6)\n",
        "plt.title(\"Age Distribution in Version 2 vs. Version 1\", fontsize=16)\n",
        "plt.xlabel(\"Age\", fontsize=14)\n",
        "plt.ylabel(\"Frequency\", fontsize=14)\n",
        "plt.legend(title=\"Dataset Version\", fontsize=12)\n",
        "plt.grid(axis=\"y\", linestyle=\"--\", alpha=0.7)\n",
        "\n",
        "# Save the plot as a PNG file\n",
        "plt.savefig(\"age_dist_plot.png\", dpi=300, bbox_inches=\"tight\")\n",
        "plt.show()"
      ],
      "metadata": {
        "colab": {
          "base_uri": "https://localhost:8080/",
          "height": 626
        },
        "id": "Y_T3m_8cHVfn",
        "outputId": "25bc701b-f2d0-4cfb-e573-e48bef2cf59f"
      },
      "execution_count": 43,
      "outputs": [
        {
          "output_type": "stream",
          "name": "stderr",
          "text": [
            "<ipython-input-43-146ea3849826>:26: UserWarning: No artists with labels found to put in legend.  Note that artists whose label start with an underscore are ignored when legend() is called with no argument.\n",
            "  plt.legend(title=\"Dataset Version\", fontsize=12)\n"
          ]
        },
        {
          "output_type": "display_data",
          "data": {
            "text/plain": [
              "<Figure size 1000x600 with 1 Axes>"
            ],
            "image/png": "[encoded data removed]"
          },
          "metadata": {}
        }
      ]
    },
    {
      "cell_type": "markdown",
      "source": [
        "Visit the dataset and notebooks from [here](https://www.kaggle.com/datasets/mahatiratusher/stroke-risk-prediction-dataset-v2/data)"
      ],
      "metadata": {
        "id": "7ronKB_VfxWP"
      }
    }
  ]
}